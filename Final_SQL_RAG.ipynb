{
 "cells": [
  {
   "cell_type": "code",
   "execution_count": 1,
   "metadata": {
    "vscode": {
     "languageId": "shellscript"
    }
   },
   "outputs": [
    {
     "data": {
      "text/html": [
       "<div>\n",
       "<style scoped>\n",
       "    .dataframe tbody tr th:only-of-type {\n",
       "        vertical-align: middle;\n",
       "    }\n",
       "\n",
       "    .dataframe tbody tr th {\n",
       "        vertical-align: top;\n",
       "    }\n",
       "\n",
       "    .dataframe thead th {\n",
       "        text-align: right;\n",
       "    }\n",
       "</style>\n",
       "<table border=\"1\" class=\"dataframe\">\n",
       "  <thead>\n",
       "    <tr style=\"text-align: right;\">\n",
       "      <th></th>\n",
       "      <th>Region</th>\n",
       "      <th>Country</th>\n",
       "      <th>Operator</th>\n",
       "      <th>Remarks</th>\n",
       "      <th>country_code</th>\n",
       "      <th>MCC/MNC</th>\n",
       "      <th>Direct/Sponsored</th>\n",
       "      <th>handset_display_1</th>\n",
       "      <th>handset_display_2</th>\n",
       "      <th>network_tie_up</th>\n",
       "      <th>prefered_list</th>\n",
       "    </tr>\n",
       "  </thead>\n",
       "  <tbody>\n",
       "    <tr>\n",
       "      <th>0</th>\n",
       "      <td>ASIA &amp; MIDDLE EAST</td>\n",
       "      <td>Afghanistan</td>\n",
       "      <td>Afghanistan Wireless Communication (AWCC)</td>\n",
       "      <td>NaN</td>\n",
       "      <td>93</td>\n",
       "      <td>41201</td>\n",
       "      <td>Direct</td>\n",
       "      <td>AF AWCC</td>\n",
       "      <td>AWCC</td>\n",
       "      <td>2G/3G/LTE</td>\n",
       "      <td>Preferred 1</td>\n",
       "    </tr>\n",
       "    <tr>\n",
       "      <th>1</th>\n",
       "      <td>EUROPE</td>\n",
       "      <td>Andorra</td>\n",
       "      <td>S.T.A (MOBILAND)</td>\n",
       "      <td>NaN</td>\n",
       "      <td>376</td>\n",
       "      <td>21303</td>\n",
       "      <td>Direct</td>\n",
       "      <td>ANDORRA-MOBILAND</td>\n",
       "      <td>M-AND</td>\n",
       "      <td>2G/3G/LTE/VOLTE</td>\n",
       "      <td>Preferred 1</td>\n",
       "    </tr>\n",
       "    <tr>\n",
       "      <th>2</th>\n",
       "      <td>CENTRAL &amp; LATIN AMERICA</td>\n",
       "      <td>Anguilla</td>\n",
       "      <td>Cable &amp; Wireless (West Indies) Ltd. Anguilla</td>\n",
       "      <td>NaN</td>\n",
       "      <td>1-264</td>\n",
       "      <td>365840</td>\n",
       "      <td>Direct</td>\n",
       "      <td>FLOW</td>\n",
       "      <td>FLOW</td>\n",
       "      <td>2G/3G/LTE</td>\n",
       "      <td>Preferred 2</td>\n",
       "    </tr>\n",
       "    <tr>\n",
       "      <th>3</th>\n",
       "      <td>CENTRAL &amp; LATIN AMERICA</td>\n",
       "      <td>Anguilla</td>\n",
       "      <td>Mossel (Jamaica) Ltd (Digicel) - NETWORK ESTEN...</td>\n",
       "      <td>NaN</td>\n",
       "      <td>1-264</td>\n",
       "      <td>338050/338880</td>\n",
       "      <td>Direct</td>\n",
       "      <td>Digicel</td>\n",
       "      <td>Digicel</td>\n",
       "      <td>2G/3G/LTE</td>\n",
       "      <td>Preferred 1</td>\n",
       "    </tr>\n",
       "    <tr>\n",
       "      <th>4</th>\n",
       "      <td>CENTRAL &amp; LATIN AMERICA</td>\n",
       "      <td>Antigua and Barbuda</td>\n",
       "      <td>Digicel antigua e barbuda - NETWORK ESTENSION ...</td>\n",
       "      <td>NaN</td>\n",
       "      <td>1-268</td>\n",
       "      <td>338884</td>\n",
       "      <td>Direct</td>\n",
       "      <td>Digicel</td>\n",
       "      <td>digicel</td>\n",
       "      <td>2G/3G/LTE</td>\n",
       "      <td>Preferred 1</td>\n",
       "    </tr>\n",
       "  </tbody>\n",
       "</table>\n",
       "</div>"
      ],
      "text/plain": [
       "                    Region              Country  \\\n",
       "0       ASIA & MIDDLE EAST          Afghanistan   \n",
       "1                   EUROPE              Andorra   \n",
       "2  CENTRAL & LATIN AMERICA             Anguilla   \n",
       "3  CENTRAL & LATIN AMERICA             Anguilla   \n",
       "4  CENTRAL & LATIN AMERICA  Antigua and Barbuda   \n",
       "\n",
       "                                            Operator Remarks country_code  \\\n",
       "0          Afghanistan Wireless Communication (AWCC)     NaN           93   \n",
       "1                                   S.T.A (MOBILAND)     NaN          376   \n",
       "2       Cable & Wireless (West Indies) Ltd. Anguilla     NaN        1-264   \n",
       "3  Mossel (Jamaica) Ltd (Digicel) - NETWORK ESTEN...     NaN        1-264   \n",
       "4  Digicel antigua e barbuda - NETWORK ESTENSION ...     NaN        1-268   \n",
       "\n",
       "         MCC/MNC Direct/Sponsored  handset_display_1 handset_display_2  \\\n",
       "0          41201            Direct           AF AWCC              AWCC   \n",
       "1          21303            Direct  ANDORRA-MOBILAND             M-AND   \n",
       "2         365840            Direct              FLOW              FLOW   \n",
       "3  338050/338880            Direct           Digicel           Digicel   \n",
       "4         338884            Direct           Digicel           digicel   \n",
       "\n",
       "    network_tie_up prefered_list  \n",
       "0        2G/3G/LTE   Preferred 1  \n",
       "1  2G/3G/LTE/VOLTE   Preferred 1  \n",
       "2        2G/3G/LTE   Preferred 2  \n",
       "3        2G/3G/LTE   Preferred 1  \n",
       "4        2G/3G/LTE   Preferred 1  "
      ]
     },
     "execution_count": 1,
     "metadata": {},
     "output_type": "execute_result"
    }
   ],
   "source": [
    "import pandas as pd\n",
    "\n",
    "df = pd.read_excel(r'C:\\Users\\Ashton Internship\\Desktop\\Chat With Excel\\Operator List_processed.xlsx')\n",
    "\n",
    "df.head()"
   ]
  },
  {
   "cell_type": "code",
   "execution_count": 2,
   "metadata": {
    "vscode": {
     "languageId": "shellscript"
    }
   },
   "outputs": [
    {
     "data": {
      "text/plain": [
       "281"
      ]
     },
     "execution_count": 2,
     "metadata": {},
     "output_type": "execute_result"
    }
   ],
   "source": [
    "# We can check out the length of the dataframe\n",
    "len(df)\n"
   ]
  },
  {
   "cell_type": "code",
   "execution_count": 4,
   "metadata": {},
   "outputs": [],
   "source": [
    "# # Save the modified DataFrame back to the Excel file\n",
    "# df = df.to_excel(r'C:\\Users\\Ashton Internship\\Desktop\\Chat With Excel\\Operator List_processed.xlsx', index=False)"
   ]
  },
  {
   "cell_type": "code",
   "execution_count": 4,
   "metadata": {
    "vscode": {
     "languageId": "shellscript"
    }
   },
   "outputs": [
    {
     "data": {
      "text/plain": [
       "281"
      ]
     },
     "execution_count": 4,
     "metadata": {},
     "output_type": "execute_result"
    }
   ],
   "source": [
    "import sqlite3\n",
    "\n",
    "# Create a connection to a local database (This will create a file called mydatabase.db)\n",
    "db = sqlite3.connect('test.db')\n",
    "\n",
    "# Copy the dataframe to our SQLite database\n",
    "df.to_sql('operator_list', db, if_exists='replace')"
   ]
  },
  {
   "cell_type": "code",
   "execution_count": 83,
   "metadata": {
    "vscode": {
     "languageId": "shellscript"
    }
   },
   "outputs": [
    {
     "name": "stdout",
     "output_type": "stream",
     "text": [
      "sqlite\n",
      "['operator_list']\n"
     ]
    }
   ],
   "source": [
    "from langchain_community.utilities import SQLDatabase\n",
    "\n",
    "db = SQLDatabase.from_uri(\"sqlite:///test.db\")\n",
    "print(db.dialect)\n",
    "print(db.get_usable_table_names())\n"
   ]
  },
  {
   "cell_type": "code",
   "execution_count": 51,
   "metadata": {
    "vscode": {
     "languageId": "shellscript"
    }
   },
   "outputs": [],
   "source": [
    "from langchain_ollama import ChatOllama\n",
    "\n",
    "# llm = ChatOllama(model = \"deepseek-r1\", temperature = 0.2,num_gpu = 1,verbose = False)\n",
    "llm = ChatOllama(model = \"llama3.2\", temperature = 0.2,num_gpu = 1,verbose = False)\n",
    "# llm = ChatOllama(model = \"mistral\", temperature = 0.2,num_gpu = 1,verbose = False)"
   ]
  },
  {
   "cell_type": "code",
   "execution_count": 7,
   "metadata": {
    "vscode": {
     "languageId": "shellscript"
    }
   },
   "outputs": [],
   "source": [
    "def getDatabaseSchema():\n",
    "    return db.get_table_info() if db else \"Please connect to database\""
   ]
  },
  {
   "cell_type": "code",
   "execution_count": 82,
   "metadata": {
    "vscode": {
     "languageId": "shellscript"
    }
   },
   "outputs": [],
   "source": [
    "# print(getDatabaseSchema())"
   ]
  },
  {
   "cell_type": "code",
   "execution_count": 64,
   "metadata": {},
   "outputs": [],
   "source": [
    "schema = getDatabaseSchema()"
   ]
  },
  {
   "cell_type": "code",
   "execution_count": 76,
   "metadata": {},
   "outputs": [],
   "source": [
    "from langchain_core.prompts import ChatPromptTemplate\n",
    "spell_check_template = \"\"\"You are an expert spelling checker and AI assistant. Your task is to correct any misspelled region or country names in the user's query and return the corrected query.\n",
    "\n",
    "### **Instructions:**  \n",
    "- Correct the following common misspellings in the query:  \n",
    "  - \"IROPE\" → \"Europe\"  \n",
    "  - \"ASIAH\" → \"Asia\"  \n",
    "  - \"OCEANEA\" → \"Oceania\"  \n",
    "  - \"AFRICAH\" → \"Africa\"  \n",
    "  - \"AMERICAH\" → \"America\"  \n",
    "  - \"ANTARTICA\" → \"Antarctica\"  \n",
    "- If the region is not recognized (e.g., \"Mars\"), keep it as-is.  \n",
    "- Return **the entire corrected query** and nothing else—no explanations, no comments.  \n",
    "\n",
    "### **Examples:**  \n",
    "**Input:** List all operators in IROPE.  \n",
    "**Output:** List all operators in Europe.  \n",
    "\n",
    "**Input:** How many customers are from ASIAH?  \n",
    "**Output:** How many customers are from Asia?  \n",
    "\n",
    "**Input:** Show operators in Mars.  \n",
    "**Output:** Show operators in Mars.  \n",
    "\n",
    "### **Your Turn:**  \n",
    "**Input:** {query}  \n",
    "**Output:**  \n",
    "\"\"\"\n",
    "\n",
    "spell_check_prompt = ChatPromptTemplate.from_template(spell_check_template)"
   ]
  },
  {
   "cell_type": "code",
   "execution_count": 81,
   "metadata": {},
   "outputs": [],
   "source": [
    "sql_template = \"\"\"You are an expert in generating SQL queries. Below is the schema of a MySQL database. Read the schema carefully, paying attention to table names, column names, and case sensitivity.\n",
    "\n",
    "Your task is to generate a syntactically correct SQL query that answers the user's question based on the given schema. **Only provide the SQL query and nothing else**—no explanations, no comments.\n",
    "\n",
    "### **Schema:**  \n",
    "{schema}\n",
    "\n",
    "### **Instructions:**  \n",
    "- Use **only** the provided tables and columns in the schema.  \n",
    "- Be **mindful of case sensitivity** for table and column names.  \n",
    "- If the user doesn't specify a limit, do **not** fetch excessive records.  \n",
    "- Do **not** generate queries for non-existent tables or columns.  \n",
    "- The region/country in the question has already been spell-checked. Use it as-is.  \n",
    "- **Handle case sensitivity for the `Region` column:**  \n",
    "  - Convert the region/country value in the query to **UPPERCASE** to match the database format.  \n",
    "  - For example, if the user asks about \"Europe\", the query should use `WHERE Region = 'EUROPE'`.  \n",
    "\n",
    "### **Examples:**  \n",
    "**Question:** How many albums are in the database?  \n",
    "**SQL Query:** SELECT COUNT(*) FROM album;\n",
    "\n",
    "**Question:** How many customers are from Brazil?  \n",
    "**SQL Query:** SELECT COUNT(*) FROM customer WHERE country = 'Brazil';\n",
    "\n",
    "**Question:** List all operators in Europe.  \n",
    "**SQL Query:** SELECT Operator FROM operator_list WHERE Region = 'EUROPE';\n",
    "\n",
    "### **Your Turn:**  \n",
    "**Question:** {question}  \n",
    "**SQL Query:**  \n",
    "\"\"\"\n",
    "\n",
    "\n",
    "sql_prompt = ChatPromptTemplate.from_template(sql_template)"
   ]
  },
  {
   "cell_type": "code",
   "execution_count": 78,
   "metadata": {},
   "outputs": [],
   "source": [
    "response_template = \"\"\"You are an AI assistant skilled in SQL and natural language processing. Your task is to generate **a user-friendly response** based on a SQL query result.\n",
    "\n",
    "Below is the schema of a MySQL database. Read the schema carefully to understand the structure, including table and column names.\n",
    "\n",
    "### **Schema:**  \n",
    "{schema}\n",
    "\n",
    "### **Instructions:**  \n",
    "- Respond in **natural, conversational language** while keeping the response **concise and informative**.  \n",
    "- Do **not** include the SQL query or any technical details in the response.  \n",
    "- If the result is empty (`[]` or `None`), respond accordingly (e.g., \"There are no operators in Europe in the database.\").  \n",
    "- Start the response with a brief sentence that dynamically adapts to the question (e.g., \"The operators in Europe are:\" or \"The total number of customers in Brazil is:\").  \n",
    "- Format the response in a clean, structured way:  \n",
    "  - For lists, use bullet points (`-`) or numbered lists.  \n",
    "  - For counts or single values, provide a concise sentence.  \n",
    "- If the question implies ordering (e.g., \"list all operators in alphabetical order\"), ensure the response reflects the ordered results.  \n",
    "\n",
    "### **Examples:**  \n",
    "\n",
    "**Question:** How many albums are in the database?  \n",
    "**SQL Query:** SELECT COUNT(*) FROM album;\n",
    "**Result:** `[(34,)]`  \n",
    "**Response:** There are 34 albums in the database.  \n",
    "\n",
    "**Question:** How many customers are from India?  \n",
    "**SQL Query:** `ELECT COUNT(*) FROM customer WHERE country = 'India';\n",
    "**Result:** `[(4,)]`  \n",
    "**Response:** There are 4 customers from India in the database.  \n",
    "\n",
    "**Question:** List all operators in Europe in alphabetical order.  \n",
    "**SQL Query:** SELECT Operator FROM operator_list WHERE Region = 'EUROPE' ORDER BY Operator ASC;\n",
    "**Result:** `[(\"Operator A\",), (\"Operator B\",), ...]`  \n",
    "**Response:** The operators in Europe are:  \n",
    "- Operator A  \n",
    "- Operator B  \n",
    "- ...  \n",
    "\n",
    "### **Your Turn:**  \n",
    "**Question:** {question}  \n",
    "**SQL Query:** {query}  \n",
    "**Result:** {result}  \n",
    "**Response:**  \n",
    "\"\"\"\n",
    "\n",
    "response_prompt = ChatPromptTemplate.from_template(response_template)"
   ]
  },
  {
   "cell_type": "code",
   "execution_count": 79,
   "metadata": {},
   "outputs": [],
   "source": [
    "from langchain_core.runnables import RunnablePassthrough\n",
    "\n",
    "def runChain(question):\n",
    "    # Step 1: Spell check\n",
    "    spell_check_chain = spell_check_prompt | llm\n",
    "    corrected_question = spell_check_chain.invoke({\"query\": question}).content\n",
    "    \n",
    "    # Step 2: Generate SQL query\n",
    "    sql_chain = sql_prompt | llm\n",
    "    sql_query = sql_chain.invoke({\"question\": corrected_question ,\"schema\": schema}).content\n",
    "    \n",
    "    # Step 3: Execute SQL query\n",
    "    result = db.run(sql_query)\n",
    "    \n",
    "    # Step 4: Generate user-friendly response\n",
    "    response_chain = response_prompt | llm\n",
    "    response = response_chain.invoke({\n",
    "        \"question\": corrected_question,\n",
    "        \"schema\": schema,\n",
    "        \"query\": sql_query,\n",
    "        \"result\": result\n",
    "    }).content\n",
    "    \n",
    "    return response"
   ]
  },
  {
   "cell_type": "code",
   "execution_count": 84,
   "metadata": {},
   "outputs": [
    {
     "name": "stdout",
     "output_type": "stream",
     "text": [
      "The operators in Asia are:\n",
      "\n",
      "• Afghanistan Wireless Communication (AWCC)\n",
      "• Batelco (BHR MOBILE PLUS)\n",
      "• J.V.Bakcell (BAKCELL GSM 2000)\n",
      "• Zain BH (ex MTC Vodafone )\n",
      "• GrameenPhone Ltd\n",
      "• TM Int'l (Bangladesh) Ltd (AKTEL)\n",
      "• BMobile\n",
      "• UNN\n",
      "• SMART ( ex LATEZ-HALLO AXIATA)  \n",
      "• CamGSM (MOBITEL)\n",
      "• China Telecom\n",
      "• China Mobile Communication Corp.\n",
      "• Telemor\n",
      "• CSL Hong Kong Limited \n",
      "• Hutchison Telecom \n",
      "• SmarTone (ex SmarTone Mobile Comms. Ltd.-Vodafone)\n",
      "• INDOSAT (ex Satelindo)\n",
      "• Hutchinson CP\n",
      "• PT. Excelcomindo (Excelcom)\n",
      "• Smartfren\n",
      "• ZAIN ( ex Atheer )\n",
      "• Korek telecom\n",
      "• HOT MOBILE  (ex MIRS) - ADDITIONAL NETWORK of ISRMC\n",
      "• Pelephone\n",
      "• Rakuten\n",
      "• KDDI\n",
      "• Softbank\n",
      "• Umniah Mobile Company -\n",
      "• OOREDOO (formerly National Mobile Telecommunications Co (Wataniya Telecom))\n",
      "• Mobile Telecommunications Co. (MTCNet)\n",
      "• KTC (Viva)\n",
      "• Alfa Telecom \n",
      "• Hutchison Telephone (Macau) Company Limited (Hutchison Telecom)\n",
      "• C.T.M. (TELEMOVEL+ GSM900-Macau)\n",
      "• Digi Telecommunications Sdn Bhd\n",
      "• MMSSB\n",
      "• U Mobile\n",
      "• Dhivehi Raajjeyge Gulhun Private Ltd GSM 900 (DhiMobile GSM 900)\n",
      "• Ooredoo Myanmar\n",
      "• Myanma Posts and Telecommunications\n",
      "• Mytel (Viettel Group)\n",
      "• Nepal Telecommunications Corporation (Nepal Mobile)\n",
      "• Ncell (ex Spice)\n",
      "• Oman Telecommunications Company (OMAN MOBILE)\n",
      "• Vodafone\n",
      "• Nawras\n",
      "• Smart Communications Inc. (Smart Gold GSM)\n",
      "• Ooredoo (ex Q-tel)\n",
      "• Vodafone Qatar\n",
      "• Saudi Telecom Company (STC) (AL JAWAL)\n",
      "• MobileOne Ltd\n",
      "• StarHub Pte Ltd\n",
      "• TPG\n",
      "• KT Freetel Co., Ltd (KT ICOM)\n",
      "• SK Telecom\n",
      "• LG Uplus Corp\n",
      "• MTN Networks (Pvt) Ltd (DIALOG GSM)\n",
      "• Mobitel (Pvt) Limited\n",
      "• Hutchison \n",
      "• VIBO TELECOM\n",
      "• Taiwan Mobile\n",
      "• APT Taiwan\n",
      "• AWN (Advanced Wireless Network Company limited)\n",
      "• REAL FUTURE/True Move (ex Orange)\n",
      "• DU\n",
      "• mts (Uzdunrobita JV (Uzdunrobita GSM)\n",
      "• U-Cell (Coscom)\n",
      "• Uzbek Telecom\n",
      "• Vietnam Telecoms Services Co (GPC) (Vinaphone)\n",
      "• Viettel\n",
      "• VietnaMobile(Hutchison)\n"
     ]
    }
   ],
   "source": [
    "# Example usage\n",
    "question = \"Name operators in Asia\"\n",
    "response = runChain(question)\n",
    "print(response)"
   ]
  }
 ],
 "metadata": {
  "kernelspec": {
   "display_name": "excel-rag",
   "language": "python",
   "name": "myenv"
  },
  "language_info": {
   "codemirror_mode": {
    "name": "ipython",
    "version": 3
   },
   "file_extension": ".py",
   "mimetype": "text/x-python",
   "name": "python",
   "nbconvert_exporter": "python",
   "pygments_lexer": "ipython3",
   "version": "3.11.0"
  }
 },
 "nbformat": 4,
 "nbformat_minor": 4
}
