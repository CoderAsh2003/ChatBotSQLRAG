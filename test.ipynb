{
 "cells": [
  {
   "cell_type": "code",
   "execution_count": 6,
   "metadata": {
    "vscode": {
     "languageId": "shellscript"
    }
   },
   "outputs": [
    {
     "data": {
      "text/html": [
       "<div>\n",
       "<style scoped>\n",
       "    .dataframe tbody tr th:only-of-type {\n",
       "        vertical-align: middle;\n",
       "    }\n",
       "\n",
       "    .dataframe tbody tr th {\n",
       "        vertical-align: top;\n",
       "    }\n",
       "\n",
       "    .dataframe thead th {\n",
       "        text-align: right;\n",
       "    }\n",
       "</style>\n",
       "<table border=\"1\" class=\"dataframe\">\n",
       "  <thead>\n",
       "    <tr style=\"text-align: right;\">\n",
       "      <th></th>\n",
       "      <th>Region</th>\n",
       "      <th>Country</th>\n",
       "      <th>Operator</th>\n",
       "      <th>Remarks</th>\n",
       "      <th>country_code</th>\n",
       "      <th>MCC/MNC</th>\n",
       "      <th>Direct/Sponsored</th>\n",
       "      <th>handset_display_1</th>\n",
       "      <th>handset_display_2</th>\n",
       "      <th>network_tie_up</th>\n",
       "      <th>prefered_list</th>\n",
       "    </tr>\n",
       "  </thead>\n",
       "  <tbody>\n",
       "    <tr>\n",
       "      <th>0</th>\n",
       "      <td>ASIA &amp; MIDDLE EAST</td>\n",
       "      <td>Afghanistan</td>\n",
       "      <td>Afghanistan Wireless Communication (AWCC)</td>\n",
       "      <td>NaN</td>\n",
       "      <td>93</td>\n",
       "      <td>41201</td>\n",
       "      <td>Direct</td>\n",
       "      <td>AF AWCC</td>\n",
       "      <td>AWCC</td>\n",
       "      <td>2G/3G/LTE</td>\n",
       "      <td>Preferred 1</td>\n",
       "    </tr>\n",
       "    <tr>\n",
       "      <th>1</th>\n",
       "      <td>EUROPE</td>\n",
       "      <td>Andorra</td>\n",
       "      <td>S.T.A (MOBILAND)</td>\n",
       "      <td>NaN</td>\n",
       "      <td>376</td>\n",
       "      <td>21303</td>\n",
       "      <td>Direct</td>\n",
       "      <td>ANDORRA-MOBILAND</td>\n",
       "      <td>M-AND</td>\n",
       "      <td>2G/3G/LTE/VOLTE</td>\n",
       "      <td>Preferred 1</td>\n",
       "    </tr>\n",
       "    <tr>\n",
       "      <th>2</th>\n",
       "      <td>CENTRAL &amp; LATIN AMERICA</td>\n",
       "      <td>Anguilla</td>\n",
       "      <td>Cable &amp; Wireless (West Indies) Ltd. Anguilla</td>\n",
       "      <td>NaN</td>\n",
       "      <td>1-264</td>\n",
       "      <td>365840</td>\n",
       "      <td>Direct</td>\n",
       "      <td>FLOW</td>\n",
       "      <td>FLOW</td>\n",
       "      <td>2G/3G/LTE</td>\n",
       "      <td>Preferred 2</td>\n",
       "    </tr>\n",
       "    <tr>\n",
       "      <th>3</th>\n",
       "      <td>CENTRAL &amp; LATIN AMERICA</td>\n",
       "      <td>Anguilla</td>\n",
       "      <td>Mossel (Jamaica) Ltd (Digicel) - NETWORK ESTEN...</td>\n",
       "      <td>NaN</td>\n",
       "      <td>1-264</td>\n",
       "      <td>338050/338880</td>\n",
       "      <td>Direct</td>\n",
       "      <td>Digicel</td>\n",
       "      <td>Digicel</td>\n",
       "      <td>2G/3G/LTE</td>\n",
       "      <td>Preferred 1</td>\n",
       "    </tr>\n",
       "    <tr>\n",
       "      <th>4</th>\n",
       "      <td>CENTRAL &amp; LATIN AMERICA</td>\n",
       "      <td>Antigua and Barbuda</td>\n",
       "      <td>Digicel antigua e barbuda - NETWORK ESTENSION ...</td>\n",
       "      <td>NaN</td>\n",
       "      <td>1-268</td>\n",
       "      <td>338884</td>\n",
       "      <td>Direct</td>\n",
       "      <td>Digicel</td>\n",
       "      <td>digicel</td>\n",
       "      <td>2G/3G/LTE</td>\n",
       "      <td>Preferred 1</td>\n",
       "    </tr>\n",
       "  </tbody>\n",
       "</table>\n",
       "</div>"
      ],
      "text/plain": [
       "                    Region              Country  \\\n",
       "0       ASIA & MIDDLE EAST          Afghanistan   \n",
       "1                   EUROPE              Andorra   \n",
       "2  CENTRAL & LATIN AMERICA             Anguilla   \n",
       "3  CENTRAL & LATIN AMERICA             Anguilla   \n",
       "4  CENTRAL & LATIN AMERICA  Antigua and Barbuda   \n",
       "\n",
       "                                            Operator Remarks country_code  \\\n",
       "0          Afghanistan Wireless Communication (AWCC)     NaN           93   \n",
       "1                                   S.T.A (MOBILAND)     NaN          376   \n",
       "2       Cable & Wireless (West Indies) Ltd. Anguilla     NaN        1-264   \n",
       "3  Mossel (Jamaica) Ltd (Digicel) - NETWORK ESTEN...     NaN        1-264   \n",
       "4  Digicel antigua e barbuda - NETWORK ESTENSION ...     NaN        1-268   \n",
       "\n",
       "         MCC/MNC Direct/Sponsored  handset_display_1 handset_display_2  \\\n",
       "0          41201            Direct           AF AWCC              AWCC   \n",
       "1          21303            Direct  ANDORRA-MOBILAND             M-AND   \n",
       "2         365840            Direct              FLOW              FLOW   \n",
       "3  338050/338880            Direct           Digicel           Digicel   \n",
       "4         338884            Direct           Digicel           digicel   \n",
       "\n",
       "    network_tie_up prefered_list  \n",
       "0        2G/3G/LTE   Preferred 1  \n",
       "1  2G/3G/LTE/VOLTE   Preferred 1  \n",
       "2        2G/3G/LTE   Preferred 2  \n",
       "3        2G/3G/LTE   Preferred 1  \n",
       "4        2G/3G/LTE   Preferred 1  "
      ]
     },
     "execution_count": 6,
     "metadata": {},
     "output_type": "execute_result"
    }
   ],
   "source": [
    "import pandas as pd\n",
    "\n",
    "df = pd.read_excel(r'C:\\Users\\Ashton Internship\\Desktop\\Chat With Excel\\Operator List_processed.xlsx')\n",
    "\n",
    "df.head()"
   ]
  },
  {
   "cell_type": "code",
   "execution_count": 2,
   "metadata": {
    "vscode": {
     "languageId": "shellscript"
    }
   },
   "outputs": [
    {
     "data": {
      "text/html": [
       "<div>\n",
       "<style scoped>\n",
       "    .dataframe tbody tr th:only-of-type {\n",
       "        vertical-align: middle;\n",
       "    }\n",
       "\n",
       "    .dataframe tbody tr th {\n",
       "        vertical-align: top;\n",
       "    }\n",
       "\n",
       "    .dataframe thead th {\n",
       "        text-align: right;\n",
       "    }\n",
       "</style>\n",
       "<table border=\"1\" class=\"dataframe\">\n",
       "  <thead>\n",
       "    <tr style=\"text-align: right;\">\n",
       "      <th></th>\n",
       "      <th>Region</th>\n",
       "      <th>Country</th>\n",
       "      <th>Operator</th>\n",
       "      <th>Remarks</th>\n",
       "      <th>country_code</th>\n",
       "      <th>MCC/MNC</th>\n",
       "      <th>Direct/Sponsored</th>\n",
       "      <th>handset_display_1</th>\n",
       "      <th>handset_display_2</th>\n",
       "      <th>network_tie_up</th>\n",
       "      <th>prefered_list</th>\n",
       "    </tr>\n",
       "  </thead>\n",
       "  <tbody>\n",
       "    <tr>\n",
       "      <th>0</th>\n",
       "      <td>ASIA &amp; MIDDLE EAST</td>\n",
       "      <td>Afghanistan</td>\n",
       "      <td>Afghanistan Wireless Communication (AWCC)</td>\n",
       "      <td>NaN</td>\n",
       "      <td>93</td>\n",
       "      <td>41201</td>\n",
       "      <td>Direct</td>\n",
       "      <td>AF AWCC</td>\n",
       "      <td>AWCC</td>\n",
       "      <td>2G/3G/LTE</td>\n",
       "      <td>Preferred 1</td>\n",
       "    </tr>\n",
       "    <tr>\n",
       "      <th>1</th>\n",
       "      <td>EUROPE</td>\n",
       "      <td>Andorra</td>\n",
       "      <td>S.T.A (MOBILAND)</td>\n",
       "      <td>NaN</td>\n",
       "      <td>376</td>\n",
       "      <td>21303</td>\n",
       "      <td>Direct</td>\n",
       "      <td>ANDORRA-MOBILAND</td>\n",
       "      <td>M-AND</td>\n",
       "      <td>2G/3G/LTE/VOLTE</td>\n",
       "      <td>Preferred 1</td>\n",
       "    </tr>\n",
       "    <tr>\n",
       "      <th>2</th>\n",
       "      <td>CENTRAL &amp; LATIN AMERICA</td>\n",
       "      <td>Anguilla</td>\n",
       "      <td>Cable &amp; Wireless (West Indies) Ltd. Anguilla</td>\n",
       "      <td>NaN</td>\n",
       "      <td>1-264</td>\n",
       "      <td>365840</td>\n",
       "      <td>Direct</td>\n",
       "      <td>FLOW</td>\n",
       "      <td>FLOW</td>\n",
       "      <td>2G/3G/LTE</td>\n",
       "      <td>Preferred 2</td>\n",
       "    </tr>\n",
       "    <tr>\n",
       "      <th>3</th>\n",
       "      <td>CENTRAL &amp; LATIN AMERICA</td>\n",
       "      <td>Anguilla</td>\n",
       "      <td>Mossel (Jamaica) Ltd (Digicel) - NETWORK ESTEN...</td>\n",
       "      <td>NaN</td>\n",
       "      <td>1-264</td>\n",
       "      <td>338050/338880</td>\n",
       "      <td>Direct</td>\n",
       "      <td>Digicel</td>\n",
       "      <td>Digicel</td>\n",
       "      <td>2G/3G/LTE</td>\n",
       "      <td>Preferred 1</td>\n",
       "    </tr>\n",
       "    <tr>\n",
       "      <th>4</th>\n",
       "      <td>CENTRAL &amp; LATIN AMERICA</td>\n",
       "      <td>Antigua and Barbuda</td>\n",
       "      <td>Digicel antigua e barbuda - NETWORK ESTENSION ...</td>\n",
       "      <td>NaN</td>\n",
       "      <td>1-268</td>\n",
       "      <td>338884</td>\n",
       "      <td>Direct</td>\n",
       "      <td>Digicel</td>\n",
       "      <td>digicel</td>\n",
       "      <td>2G/3G/LTE</td>\n",
       "      <td>Preferred 1</td>\n",
       "    </tr>\n",
       "  </tbody>\n",
       "</table>\n",
       "</div>"
      ],
      "text/plain": [
       "                    Region              Country  \\\n",
       "0       ASIA & MIDDLE EAST          Afghanistan   \n",
       "1                   EUROPE              Andorra   \n",
       "2  CENTRAL & LATIN AMERICA             Anguilla   \n",
       "3  CENTRAL & LATIN AMERICA             Anguilla   \n",
       "4  CENTRAL & LATIN AMERICA  Antigua and Barbuda   \n",
       "\n",
       "                                            Operator Remarks country_code  \\\n",
       "0          Afghanistan Wireless Communication (AWCC)     NaN           93   \n",
       "1                                   S.T.A (MOBILAND)     NaN          376   \n",
       "2       Cable & Wireless (West Indies) Ltd. Anguilla     NaN        1-264   \n",
       "3  Mossel (Jamaica) Ltd (Digicel) - NETWORK ESTEN...     NaN        1-264   \n",
       "4  Digicel antigua e barbuda - NETWORK ESTENSION ...     NaN        1-268   \n",
       "\n",
       "         MCC/MNC Direct/Sponsored  handset_display_1 handset_display_2  \\\n",
       "0          41201            Direct           AF AWCC              AWCC   \n",
       "1          21303            Direct  ANDORRA-MOBILAND             M-AND   \n",
       "2         365840            Direct              FLOW              FLOW   \n",
       "3  338050/338880            Direct           Digicel           Digicel   \n",
       "4         338884            Direct           Digicel           digicel   \n",
       "\n",
       "    network_tie_up prefered_list  \n",
       "0        2G/3G/LTE   Preferred 1  \n",
       "1  2G/3G/LTE/VOLTE   Preferred 1  \n",
       "2        2G/3G/LTE   Preferred 2  \n",
       "3        2G/3G/LTE   Preferred 1  \n",
       "4        2G/3G/LTE   Preferred 1  "
      ]
     },
     "execution_count": 2,
     "metadata": {},
     "output_type": "execute_result"
    }
   ],
   "source": [
    "# Also, column names with spaces can be tricky and cause unexpected errors, so let us replace the spaces with underscores\n",
    "# df.rename(columns={\"Country code\": \"country_code\", \"Handset Display 1\": \"handset_display_1\",\"Handset Display 2\": \"handset_display_2\",\"Network tie-up\":\"network_tie_up\",\"Prefered List\":\"prefered_list\"}, inplace=True)\n",
    "# df.head()"
   ]
  },
  {
   "cell_type": "code",
   "execution_count": 7,
   "metadata": {
    "vscode": {
     "languageId": "shellscript"
    }
   },
   "outputs": [
    {
     "data": {
      "text/plain": [
       "281"
      ]
     },
     "execution_count": 7,
     "metadata": {},
     "output_type": "execute_result"
    }
   ],
   "source": [
    "# We can check out the length of the dataframe\n",
    "len(df)"
   ]
  },
  {
   "cell_type": "code",
   "execution_count": 4,
   "metadata": {},
   "outputs": [],
   "source": [
    "# # Save the modified DataFrame back to the Excel file\n",
    "# df = df.to_excel(r'C:\\Users\\Ashton Internship\\Desktop\\Chat With Excel\\Operator List_processed.xlsx', index=False)"
   ]
  },
  {
   "cell_type": "code",
   "execution_count": 8,
   "metadata": {
    "vscode": {
     "languageId": "shellscript"
    }
   },
   "outputs": [
    {
     "data": {
      "text/plain": [
       "281"
      ]
     },
     "execution_count": 8,
     "metadata": {},
     "output_type": "execute_result"
    }
   ],
   "source": [
    "import sqlite3\n",
    "\n",
    "# Create a connection to a local database (This will create a file called mydatabase.db)\n",
    "db = sqlite3.connect('test.db')\n",
    "\n",
    "# Copy the dataframe to our SQLite database\n",
    "df.to_sql('operator_list', db, if_exists='replace')"
   ]
  },
  {
   "cell_type": "code",
   "execution_count": 5,
   "metadata": {
    "vscode": {
     "languageId": "shellscript"
    }
   },
   "outputs": [
    {
     "name": "stdout",
     "output_type": "stream",
     "text": [
      "sqlite\n",
      "['operator_list']\n"
     ]
    },
    {
     "data": {
      "text/plain": [
       "\"[('ASIA & MIDDLE EAST',), ('EUROPE',), ('CENTRAL & LATIN AMERICA',), ('CENTRAL & LATIN AMERICA',), ('CENTRAL & LATIN AMERICA',), ('CENTRAL & LATIN AMERICA',), ('CENTRAL & LATIN AMERICA',), ('CENTRAL & LATIN AMERICA',), ('OCEANIA',), ('OCEANIA',)]\""
      ]
     },
     "execution_count": 5,
     "metadata": {},
     "output_type": "execute_result"
    }
   ],
   "source": [
    "from langchain_community.utilities import SQLDatabase\n",
    "\n",
    "db = SQLDatabase.from_uri(\"sqlite:///test.db\")\n",
    "print(db.dialect)\n",
    "print(db.get_usable_table_names())\n",
    "\n",
    "#Testing the db replies\n",
    "\n",
    "db.run(\"SELECT Region FROM operator_list LIMIT 10;\")"
   ]
  },
  {
   "cell_type": "code",
   "execution_count": 6,
   "metadata": {
    "vscode": {
     "languageId": "shellscript"
    }
   },
   "outputs": [],
   "source": [
    "from langchain_ollama import ChatOllama\n",
    "\n",
    "# llm = ChatOllama(model = \"deepseek-r1\", temperature = 0.2,num_gpu = 1,verbose = False)\n",
    "llm = ChatOllama(model = \"llama3.2\", temperature = 0.2,num_gpu = 1,verbose = False)\n",
    "# llm = ChatOllama(model = \"mistral\", temperature = 0.2,num_gpu = 1,verbose = False)"
   ]
  },
  {
   "cell_type": "code",
   "execution_count": 7,
   "metadata": {
    "vscode": {
     "languageId": "shellscript"
    }
   },
   "outputs": [],
   "source": [
    "def getDatabaseSchema():\n",
    "    return db.get_table_info() if db else \"Please connect to database\""
   ]
  },
  {
   "cell_type": "code",
   "execution_count": 8,
   "metadata": {
    "vscode": {
     "languageId": "shellscript"
    }
   },
   "outputs": [
    {
     "name": "stdout",
     "output_type": "stream",
     "text": [
      "\n",
      "CREATE TABLE operator_list (\n",
      "\t\"index\" INTEGER, \n",
      "\t\"Region\" TEXT, \n",
      "\t\"Country\" TEXT, \n",
      "\t\"Operator\" TEXT, \n",
      "\t\"Remarks\" TEXT, \n",
      "\tcountry_code TEXT, \n",
      "\t\"MCC/MNC\" TEXT, \n",
      "\t\"Direct/Sponsored \" TEXT, \n",
      "\thandset_display_1 TEXT, \n",
      "\thandset_display_2 TEXT, \n",
      "\tnetwork_tie_up TEXT, \n",
      "\tprefered_list TEXT\n",
      ")\n",
      "\n",
      "/*\n",
      "3 rows from operator_list table:\n",
      "index\tRegion\tCountry\tOperator\tRemarks\tcountry_code\tMCC/MNC\tDirect/Sponsored \thandset_display_1\thandset_display_2\tnetwork_tie_up\tprefered_list\n",
      "0\tASIA & MIDDLE EAST\tAfghanistan\tAfghanistan Wireless Communication (AWCC)\tNone\t93\t41201\tDirect\tAF AWCC\tAWCC\t2G/3G/LTE\tPreferred 1\n",
      "1\tEUROPE\tAndorra\tS.T.A (MOBILAND)\tNone\t376\t21303\tDirect\tANDORRA-MOBILAND\tM-AND\t2G/3G/LTE/VOLTE\tPreferred 1\n",
      "2\tCENTRAL & LATIN AMERICA\tAnguilla\tCable & Wireless (West Indies) Ltd. Anguilla\tNone\t1-264\t365840\tDirect\tFLOW\tFLOW\t2G/3G/LTE\tPreferred 2\n",
      "*/\n"
     ]
    }
   ],
   "source": [
    "print(getDatabaseSchema())"
   ]
  },
  {
   "cell_type": "code",
   "execution_count": 9,
   "metadata": {
    "vscode": {
     "languageId": "shellscript"
    }
   },
   "outputs": [],
   "source": [
    "from langchain_core.prompts import ChatPromptTemplate\n",
    "\n",
    "# template = \"\"\"\n",
    "#     Below is the schema of MYSQL database, read the schema carefully about the table and column names. Also take care of table or column name case sensitivity.\n",
    "#     Finally answer user's question in the form of SQL query.\n",
    "\n",
    "#     {schema}\n",
    "\n",
    "#     please only provide the SQL query and nothing else\n",
    "\n",
    "#     for example:\n",
    "#     question: how many albums we have in database\n",
    "#     SQL query: SELECT COUNT(*) FROM album\n",
    "#     question: how many customers are from Brazil in the database ?\n",
    "#     SQL query: SELECT COUNT(*) FROM customer WHERE country=Brazil\n",
    "\n",
    "#     your turn :\n",
    "#     question: {question}\n",
    "#     SQL query :\n",
    "#     please only provide the SQL query and nothing else\n",
    "# \"\"\"\n",
    "\n",
    "template = \"\"\"You are an expert in generating SQL queries. Below is the schema of a MySQL database. Read the schema carefully, paying attention to table names, column names, and case sensitivity.\n",
    "\n",
    "Your task is to generate a syntactically correct SQL query that answers the user's question based on the given schema. **Only provide the SQL query and nothing else**—no explanations, no comments.\n",
    "\n",
    "### **Schema:**  \n",
    "{schema}\n",
    "\n",
    "### **Instructions:**  \n",
    "- Use **only** the provided tables and columns in the schema.  \n",
    "- Be **mindful of case sensitivity** for table and column names.  \n",
    "- If the user doesn't specify a limit, do **not** fetch excessive records.  \n",
    "- Do **not** generate queries for non-existent tables or columns.  \n",
    "\n",
    "### **Examples:**  \n",
    "**Question:** How many albums are in the database?  \n",
    "**SQL Query:** SELECT COUNT(*) FROM album;\n",
    "\n",
    "**Question:** How many customers are from Brazil?  \n",
    "**SQL Query:** SELECT COUNT(*) FROM customer WHERE country = 'Brazil';\n",
    "\n",
    "### **Your Turn:**  \n",
    "**Question:** {question}  \n",
    "**SQL Query:**  \n",
    "\"\"\"\n",
    "\n",
    "prompt = ChatPromptTemplate.from_template(template)"
   ]
  },
  {
   "cell_type": "code",
   "execution_count": 10,
   "metadata": {
    "vscode": {
     "languageId": "shellscript"
    }
   },
   "outputs": [],
   "source": [
    "def runChain(question):\n",
    "    chain = prompt | llm\n",
    "\n",
    "    response = chain.invoke({\n",
    "        \"question\": question,\n",
    "        \"schema\": getDatabaseSchema()\n",
    "    })\n",
    "    return response.content"
   ]
  },
  {
   "cell_type": "code",
   "execution_count": 11,
   "metadata": {
    "vscode": {
     "languageId": "shellscript"
    }
   },
   "outputs": [],
   "source": [
    "def getResponseForQueryResult(question, query, result):\n",
    "    template2 = \"\"\"You are an AI assistant skilled in SQL and natural language processing. Your task is to generate **a user-friendly response** based on a SQL query result.\n",
    "\n",
    "Below is the schema of a MySQL database. Read the schema carefully to understand the structure, including table and column names.\n",
    "\n",
    "### **Schema:**  \n",
    "{schema}\n",
    "\n",
    "### **Instructions:**  \n",
    "- Look at the conversation history if available.  \n",
    "- Read the **SQL query** and its **result set** carefully.  \n",
    "- Respond in **natural, conversational language** while keeping the response **concise and informative**.  \n",
    "- Maintain a friendly and professional tone.  \n",
    "- If the result is empty (`[]` or `None`), respond accordingly (e.g., \"There are no customers from Brazil in the database.\").  \n",
    "\n",
    "### **Examples:**  \n",
    "\n",
    "**Question:** How many albums are in the database?  \n",
    "**SQL Query:** SELECT COUNT(*) FROM album;\n",
    "**Result:** `[(34,)]`  \n",
    "**Response:** There are 34 albums in the database.  \n",
    "\n",
    "**Question:** How many customers are from India?  \n",
    "**SQL Query:** `ELECT COUNT(*) FROM customer WHERE country = 'India';\n",
    "**Result:** `[(4,)]`  \n",
    "**Response:** There are 4 customers from India in the database.  \n",
    "\n",
    "**Question:** How many purchases were made last month?  \n",
    "**SQL Query:** SELECT COUNT(*) FROM orders WHERE order_date >= '2024-02-01' AND order_date < '2024-03-01';\n",
    "**Result:** `[(87,)]`  \n",
    "**Response:** There were 87 purchases made last month.  \n",
    "\n",
    "### **Your Turn:**  \n",
    "**Question:** {question}  \n",
    "**SQL Query:** {query}  \n",
    "**Result:** {result}  \n",
    "**Response:**  \n",
    "    \"\"\"\n",
    "\n",
    "    prompt2 = ChatPromptTemplate.from_template(template2)\n",
    "    chain2 = prompt2 | llm\n",
    "\n",
    "    response = chain2.invoke({\n",
    "        \"question\": question,\n",
    "        \"schema\": getDatabaseSchema(),\n",
    "        \"query\": query,\n",
    "        \"result\": result\n",
    "    })\n",
    "\n",
    "    return response.content"
   ]
  },
  {
   "cell_type": "code",
   "execution_count": 12,
   "metadata": {
    "vscode": {
     "languageId": "shellscript"
    }
   },
   "outputs": [
    {
     "name": "stdout",
     "output_type": "stream",
     "text": [
      "SELECT Operator FROM operator_list WHERE Region = 'EUROPE'\n"
     ]
    }
   ],
   "source": [
    "question = \"Name all the operators in Europe\"\n",
    "\n",
    "query = runChain(question)\n",
    "\n",
    "print(query)"
   ]
  },
  {
   "cell_type": "code",
   "execution_count": 13,
   "metadata": {
    "vscode": {
     "languageId": "shellscript"
    }
   },
   "outputs": [
    {
     "name": "stdout",
     "output_type": "stream",
     "text": [
      "[('S.T.A (MOBILAND)',), ('ONE GMBH',), ('T-Mobile + ex Telering',), ('JLLC Mobile TeleSystems (MTS)',), ('Best Belarus',), ('Belgacom Mobile (PROXIMUS)',), ('BASE NV/SA (KPN group belgium)',), ('Telenor',), ('TMobile Croazia (HTmobile)',), ('MTN Cypro (exAREEBA ex Scancom )',), ('Vodafone (Cesky Mobil -Oskar Mobil)',), ('T-Mobile Czech Republic a.s.',), ('Telefonica Czech Republic a.s.(ex Telefonica O2) - (ex Eurotel Praha)',), ('Czech republic [CZERM] T- Mobile Group',), ('HI 3G',), ('Telenor (ex Sonofon)',), ('TDC Mobil A/S',), ('Telia A/S Denmark (TELIA DK)',), ('AS EMT (EMT GSM)',), ('Radiolinja Eesti AS',), ('Tele2 Eesti AS',), ('Vodafone Faroe  (ex KALL)',), ('DNA FINNET NETWORKS (fusa conSuomen 2G Oy)',), ('Elisa corporation (ex Radiolinja Origo Oy)',), (' Telia Sonera (Sonera)',), ('Bouygues Telecom',), ('FREE MOBILE',), ('Orange France',), ('Telefonica O2 (Germany) GmbH & Co. OHG',), ('T-Mobile Deutschland GmbH (D1)',), ('COSMOTE',), ('WIND HELLAS (TELESTET)',), ('Jersey Telecom (JT GSM) - NETWORK ESTENSION of GBRJT',), ('Vodafone Hungary Ltd',), ('TMobile (exWestel Mobile) ',), ('Siminn (EX Iceland Telecom Ltd (LANDSSIMINN)',), ('Og fjarskipti hf (oG vODAFONEGSM ) (EX TAL- Isalnssimin)',), ('METEOR',), ('Hutchson',), ('Manx Telecom (Pronto GSM)',), ('TIM ',), ('Iliad (Free Mobile)',), ('Latvian Mobile Telephone Co (LMT GSM)',), ('TELE2',), ('Orange (Liechtenstein) AG (Orange FL)',), ('OMNITEL',), ('UAB \"TELE2\" (TELE2)',), ('Tango S.A',), ('POST Luxembourg (ex PT Luxembourg - LUXGSM)',), ('Vodafone Malta Limited',), ('Melita',), ('Moldtelecom',), ('Monaco Telecom - ADDITIONAL NETWORK of MCOM1',), ('T-Mobile Montenegro (ex Monet)',), ('KPN Mobile The Netherlands BV',), ('T-Mobile Netherlands (T-Mobile NL)',), ('Vodafone Libertel N.V',), ('NETCOM AS',), ('Telenor Mobil',), ('T-Mobile Polska S.A.(ex Polska Telefonia Cyfrowa S.A.(Era))',), ('Vodafone Telecel',), ('Optimus Telecomunicacoes, S.A',), ('Vodafone (ex MobiFon S.A/CONNEX GSM)',), ('TELE 2 (EX Rostov Cellular Communications )',), ('Telenor (ex MOBTEL)',), ('Slovak Telecom (ex TMobile Slovenko)',), ('Telefonica O2 ',), ('Telekom Slovenije (ex Mobitel)',), (' VODAFONE (ex Airtel Movil S.A) ',), ('Telefonica Moviles España S.A. (MOVISTAR)',), ('TELECOM Espania - Orange- (ex Retevision Movil ex AMENA)',), ('YOIGO (XFERA MOVILES)',), ('HI 3G',), ('Telia Mobile',), ('Tele 2 AB (COMVIQ)',), ('Telenor (Vodafone group)',), ('Swisscom Mobile Ltd (SWISS GSM)',), ('TDC Switzerland AG (sunrise)',), ('Orange Communications S.A',), ('AVEA (ex ARIA)',), ('Turkcell Iletisim Hizmetleri A.S.',), ('MTS Ukraina ( ex UMC)',), ('JT (Jersey) Limited-(ex Jersey Telecom (JT GSM))',), ('O2 (UK) Limited',), ('Hutchinson 3G UK',)]\n"
     ]
    }
   ],
   "source": [
    "# import re\n",
    "\n",
    "# def extract_sql_from_response(response_text):\n",
    "#     # Regex pattern to match SQL queries within triple backticks\n",
    "#     match = re.search(r\"```sql\\n(.*?)\\n```\", response_text, re.DOTALL)\n",
    "#     if match:\n",
    "#         return match.group(1).strip()  # Extract only the SQL query\n",
    "#     else:\n",
    "#         # If no triple backticks, try extracting based on common SQL keywords\n",
    "#         match = re.search(r\"(SELECT|UPDATE|DELETE|INSERT).*?;\", response_text, re.DOTALL | re.IGNORECASE)\n",
    "#         return match.group(0).strip() if match else None\n",
    "\n",
    "# formatted_response = extract_sql_from_response(query)\n",
    "\n",
    "result = db.run(query)\n",
    "\n",
    "print(result)"
   ]
  },
  {
   "cell_type": "code",
   "execution_count": 14,
   "metadata": {
    "vscode": {
     "languageId": "shellscript"
    }
   },
   "outputs": [
    {
     "name": "stdout",
     "output_type": "stream",
     "text": [
      "Based on the provided SQL query and result, I can see that you're looking for operators in Europe. However, the result set contains a long list of operators from various countries.\n",
      "\n",
      "To provide a more concise response, I'll extract the operators from Europe from the result set:\n",
      "\n",
      "The following operators are available in Europe:\n",
      "\n",
      "* S.T.A (MOBILAND) - Andorra\n",
      "* ONE GMBH - Germany\n",
      "* T-Mobile + ex Telering - Czech Republic\n",
      "* JLLC Mobile TeleSystems (MTS) - Belarus\n",
      "* Best Belarus - Belarus\n",
      "* Belgacom Mobile (PROXIMUS) - Belgium\n",
      "* BASE NV/SA (KPN group belgium) - Belgium\n",
      "* Telenor - Norway\n",
      "* TMobile Croazia (HTmobile) - Croatia\n",
      "* MTN Cypro (exAREEBA ex Scancom ) - Cyprus\n",
      "* Vodafone (Cesky Mobil -Oskar Mobil) - Czech Republic\n",
      "* T-Mobile Czech Republic a.s. - Czech Republic\n",
      "* Telefonica Czech Republic a.s.(ex Telefonica O2) - Czech Republic\n",
      "* Czech republic [CZERM] T- Mobile Group - Czech Republic\n",
      "* HI 3G - Switzerland\n",
      "* Telenor (ex Sonofon) - Norway\n",
      "* TDC Mobil A/S - Denmark\n",
      "* Telia A/S Denmark (TELIA DK) - Denmark\n",
      "* AS EMT (EMT GSM) - Andorra\n",
      "* Radiolinja Eesti AS - Estonia\n",
      "* Tele2 Eesti AS - Estonia\n",
      "* Vodafone Faroe  (ex KALL) - Faroe Islands\n",
      "* DNA FINNET NETWORKS (fusa conSuomen 2G Oy) - Finland\n",
      "* Elisa corporation (ex Radiolinja Origo Oy) - Finland\n",
      "* Telia Sonera (Sonera) - Spain\n",
      "* Bouygues Telecom - France\n",
      "* FREE MOBILE - France\n",
      "* Orange France - France\n",
      "* Telefonica O2 (Germany) - Germany\n",
      "* TELECOM Espania - Orange- (ex Retevision Movil ex AMENA) - Spain\n",
      "* YOIGO (XFERA MOVILES) - Spain\n",
      "* HI 3G - Switzerland\n",
      "* Telia Mobile - Sweden\n",
      "* Tele 2 AB (COMVIQ) - Sweden\n",
      "* Telenor (Vodafone group) - Sweden\n",
      "* Swisscom Mobile Ltd (SWISS GSM) - Switzerland\n",
      "* TDC Switzerland AG (sunrise) - Switzerland\n",
      "* Orange Communications S.A - Switzerland\n",
      "* AVEA (ex ARIA) - Turkey\n",
      "* Turkcell Iletisim Hizmetleri A.S. - Turkey\n",
      "* MTS Ukraina ( ex UMC) - Ukraine\n",
      "* JT (Jersey) Limited-(ex Jersey Telecom (JT GSM)) - Jersey\n"
     ]
    }
   ],
   "source": [
    "response = getResponseForQueryResult(question, query, result)\n",
    "\n",
    "print(response)"
   ]
  },
  {
   "cell_type": "code",
   "execution_count": null,
   "metadata": {
    "vscode": {
     "languageId": "shellscript"
    }
   },
   "outputs": [],
   "source": []
  }
 ],
 "metadata": {
  "kernelspec": {
   "display_name": "excel-rag",
   "language": "python",
   "name": "myenv"
  },
  "language_info": {
   "codemirror_mode": {
    "name": "ipython",
    "version": 3
   },
   "file_extension": ".py",
   "mimetype": "text/x-python",
   "name": "python",
   "nbconvert_exporter": "python",
   "pygments_lexer": "ipython3",
   "version": "3.11.0"
  }
 },
 "nbformat": 4,
 "nbformat_minor": 4
}
