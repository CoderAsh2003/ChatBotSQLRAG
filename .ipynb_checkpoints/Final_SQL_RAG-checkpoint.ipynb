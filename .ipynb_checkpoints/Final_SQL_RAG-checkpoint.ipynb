{
 "cells": [
  {
   "cell_type": "code",
   "execution_count": 1,
   "metadata": {
    "vscode": {
     "languageId": "shellscript"
    }
   },
   "outputs": [
    {
     "data": {
      "text/html": [
       "<div>\n",
       "<style scoped>\n",
       "    .dataframe tbody tr th:only-of-type {\n",
       "        vertical-align: middle;\n",
       "    }\n",
       "\n",
       "    .dataframe tbody tr th {\n",
       "        vertical-align: top;\n",
       "    }\n",
       "\n",
       "    .dataframe thead th {\n",
       "        text-align: right;\n",
       "    }\n",
       "</style>\n",
       "<table border=\"1\" class=\"dataframe\">\n",
       "  <thead>\n",
       "    <tr style=\"text-align: right;\">\n",
       "      <th></th>\n",
       "      <th>Region</th>\n",
       "      <th>Country</th>\n",
       "      <th>Operator</th>\n",
       "      <th>Remarks</th>\n",
       "      <th>country_code</th>\n",
       "      <th>MCC/MNC</th>\n",
       "      <th>Direct/Sponsored</th>\n",
       "      <th>handset_display_1</th>\n",
       "      <th>handset_display_2</th>\n",
       "      <th>network_tie_up</th>\n",
       "      <th>prefered_list</th>\n",
       "    </tr>\n",
       "  </thead>\n",
       "  <tbody>\n",
       "    <tr>\n",
       "      <th>0</th>\n",
       "      <td>ASIA &amp; MIDDLE EAST</td>\n",
       "      <td>Afghanistan</td>\n",
       "      <td>Afghanistan Wireless Communication (AWCC)</td>\n",
       "      <td>NaN</td>\n",
       "      <td>93</td>\n",
       "      <td>41201</td>\n",
       "      <td>Direct</td>\n",
       "      <td>AF AWCC</td>\n",
       "      <td>AWCC</td>\n",
       "      <td>2G/3G/LTE</td>\n",
       "      <td>Preferred 1</td>\n",
       "    </tr>\n",
       "    <tr>\n",
       "      <th>1</th>\n",
       "      <td>EUROPE</td>\n",
       "      <td>Andorra</td>\n",
       "      <td>S.T.A (MOBILAND)</td>\n",
       "      <td>NaN</td>\n",
       "      <td>376</td>\n",
       "      <td>21303</td>\n",
       "      <td>Direct</td>\n",
       "      <td>ANDORRA-MOBILAND</td>\n",
       "      <td>M-AND</td>\n",
       "      <td>2G/3G/LTE/VOLTE</td>\n",
       "      <td>Preferred 1</td>\n",
       "    </tr>\n",
       "    <tr>\n",
       "      <th>2</th>\n",
       "      <td>CENTRAL &amp; LATIN AMERICA</td>\n",
       "      <td>Anguilla</td>\n",
       "      <td>Cable &amp; Wireless (West Indies) Ltd. Anguilla</td>\n",
       "      <td>NaN</td>\n",
       "      <td>1-264</td>\n",
       "      <td>365840</td>\n",
       "      <td>Direct</td>\n",
       "      <td>FLOW</td>\n",
       "      <td>FLOW</td>\n",
       "      <td>2G/3G/LTE</td>\n",
       "      <td>Preferred 2</td>\n",
       "    </tr>\n",
       "    <tr>\n",
       "      <th>3</th>\n",
       "      <td>CENTRAL &amp; LATIN AMERICA</td>\n",
       "      <td>Anguilla</td>\n",
       "      <td>Mossel (Jamaica) Ltd (Digicel) - NETWORK ESTEN...</td>\n",
       "      <td>NaN</td>\n",
       "      <td>1-264</td>\n",
       "      <td>338050/338880</td>\n",
       "      <td>Direct</td>\n",
       "      <td>Digicel</td>\n",
       "      <td>Digicel</td>\n",
       "      <td>2G/3G/LTE</td>\n",
       "      <td>Preferred 1</td>\n",
       "    </tr>\n",
       "    <tr>\n",
       "      <th>4</th>\n",
       "      <td>CENTRAL &amp; LATIN AMERICA</td>\n",
       "      <td>Antigua and Barbuda</td>\n",
       "      <td>Digicel antigua e barbuda - NETWORK ESTENSION ...</td>\n",
       "      <td>NaN</td>\n",
       "      <td>1-268</td>\n",
       "      <td>338884</td>\n",
       "      <td>Direct</td>\n",
       "      <td>Digicel</td>\n",
       "      <td>digicel</td>\n",
       "      <td>2G/3G/LTE</td>\n",
       "      <td>Preferred 1</td>\n",
       "    </tr>\n",
       "  </tbody>\n",
       "</table>\n",
       "</div>"
      ],
      "text/plain": [
       "                    Region              Country  \\\n",
       "0       ASIA & MIDDLE EAST          Afghanistan   \n",
       "1                   EUROPE              Andorra   \n",
       "2  CENTRAL & LATIN AMERICA             Anguilla   \n",
       "3  CENTRAL & LATIN AMERICA             Anguilla   \n",
       "4  CENTRAL & LATIN AMERICA  Antigua and Barbuda   \n",
       "\n",
       "                                            Operator Remarks country_code  \\\n",
       "0          Afghanistan Wireless Communication (AWCC)     NaN           93   \n",
       "1                                   S.T.A (MOBILAND)     NaN          376   \n",
       "2       Cable & Wireless (West Indies) Ltd. Anguilla     NaN        1-264   \n",
       "3  Mossel (Jamaica) Ltd (Digicel) - NETWORK ESTEN...     NaN        1-264   \n",
       "4  Digicel antigua e barbuda - NETWORK ESTENSION ...     NaN        1-268   \n",
       "\n",
       "         MCC/MNC Direct/Sponsored  handset_display_1 handset_display_2  \\\n",
       "0          41201            Direct           AF AWCC              AWCC   \n",
       "1          21303            Direct  ANDORRA-MOBILAND             M-AND   \n",
       "2         365840            Direct              FLOW              FLOW   \n",
       "3  338050/338880            Direct           Digicel           Digicel   \n",
       "4         338884            Direct           Digicel           digicel   \n",
       "\n",
       "    network_tie_up prefered_list  \n",
       "0        2G/3G/LTE   Preferred 1  \n",
       "1  2G/3G/LTE/VOLTE   Preferred 1  \n",
       "2        2G/3G/LTE   Preferred 2  \n",
       "3        2G/3G/LTE   Preferred 1  \n",
       "4        2G/3G/LTE   Preferred 1  "
      ]
     },
     "execution_count": 1,
     "metadata": {},
     "output_type": "execute_result"
    }
   ],
   "source": [
    "import pandas as pd\n",
    "\n",
    "df = pd.read_excel(r'C:\\Users\\Ashton Internship\\Desktop\\Chat With Excel\\Operator List_processed.xlsx')\n",
    "\n",
    "df.head()"
   ]
  },
  {
   "cell_type": "code",
   "execution_count": 2,
   "metadata": {
    "vscode": {
     "languageId": "shellscript"
    }
   },
   "outputs": [
    {
     "data": {
      "text/plain": [
       "281"
      ]
     },
     "execution_count": 2,
     "metadata": {},
     "output_type": "execute_result"
    }
   ],
   "source": [
    "# We can check out the length of the dataframe\n",
    "len(df)\n"
   ]
  },
  {
   "cell_type": "code",
   "execution_count": 4,
   "metadata": {},
   "outputs": [],
   "source": [
    "# # Save the modified DataFrame back to the Excel file\n",
    "# df = df.to_excel(r'C:\\Users\\Ashton Internship\\Desktop\\Chat With Excel\\Operator List_processed.xlsx', index=False)"
   ]
  },
  {
   "cell_type": "code",
   "execution_count": 4,
   "metadata": {
    "vscode": {
     "languageId": "shellscript"
    }
   },
   "outputs": [
    {
     "data": {
      "text/plain": [
       "281"
      ]
     },
     "execution_count": 4,
     "metadata": {},
     "output_type": "execute_result"
    }
   ],
   "source": [
    "import sqlite3\n",
    "\n",
    "# Create a connection to a local database (This will create a file called mydatabase.db)\n",
    "db = sqlite3.connect('test.db')\n",
    "\n",
    "# Copy the dataframe to our SQLite database\n",
    "df.to_sql('operator_list', db, if_exists='replace')"
   ]
  },
  {
   "cell_type": "code",
   "execution_count": 5,
   "metadata": {
    "vscode": {
     "languageId": "shellscript"
    }
   },
   "outputs": [
    {
     "name": "stdout",
     "output_type": "stream",
     "text": [
      "sqlite\n",
      "['operator_list']\n"
     ]
    },
    {
     "data": {
      "text/plain": [
       "\"[('ASIA & MIDDLE EAST',), ('EUROPE',), ('CENTRAL & LATIN AMERICA',), ('CENTRAL & LATIN AMERICA',), ('CENTRAL & LATIN AMERICA',), ('CENTRAL & LATIN AMERICA',), ('CENTRAL & LATIN AMERICA',), ('CENTRAL & LATIN AMERICA',), ('OCEANIA',), ('OCEANIA',)]\""
      ]
     },
     "execution_count": 5,
     "metadata": {},
     "output_type": "execute_result"
    }
   ],
   "source": [
    "from langchain_community.utilities import SQLDatabase\n",
    "\n",
    "db = SQLDatabase.from_uri(\"sqlite:///test.db\")\n",
    "print(db.dialect)\n",
    "print(db.get_usable_table_names())\n",
    "\n",
    "#Testing the db replies\n",
    "\n",
    "db.run(\"SELECT Region FROM operator_list LIMIT 10;\")"
   ]
  },
  {
   "cell_type": "code",
   "execution_count": 6,
   "metadata": {
    "vscode": {
     "languageId": "shellscript"
    }
   },
   "outputs": [],
   "source": [
    "from langchain_ollama import ChatOllama\n",
    "\n",
    "# llm = ChatOllama(model = \"deepseek-r1\", temperature = 0.2,num_gpu = 1,verbose = False)\n",
    "llm = ChatOllama(model = \"llama3.2\", temperature = 0.5,num_gpu = 1,verbose = False)\n",
    "# llm = ChatOllama(model = \"mistral\", temperature = 0.2,num_gpu = 1,verbose = False)"
   ]
  },
  {
   "cell_type": "code",
   "execution_count": 7,
   "metadata": {
    "vscode": {
     "languageId": "shellscript"
    }
   },
   "outputs": [],
   "source": [
    "def getDatabaseSchema():\n",
    "    return db.get_table_info() if db else \"Please connect to database\""
   ]
  },
  {
   "cell_type": "code",
   "execution_count": 9,
   "metadata": {
    "vscode": {
     "languageId": "shellscript"
    }
   },
   "outputs": [],
   "source": [
    "# print(getDatabaseSchema())"
   ]
  },
  {
   "cell_type": "code",
   "execution_count": 8,
   "metadata": {},
   "outputs": [],
   "source": [
    "schema = getDatabaseSchema()"
   ]
  },
  {
   "cell_type": "code",
   "execution_count": 18,
   "metadata": {},
   "outputs": [],
   "source": [
    "from langchain_core.prompts import ChatPromptTemplate\n",
    "spell_check_template = \"\"\"You are an expert spelling checker and AI assistant. Your task is to correct any misspelled region or country names in the user's query and return the corrected query.\n",
    "\n",
    "### **Instructions:**  \n",
    "- Correct the following common misspellings in the query:  \n",
    "  - \"IROPE\" → \"Europe\"  \n",
    "  - \"ASIAH\" → \"Asia\"  \n",
    "  - \"OCEANEA\" → \"Oceania\"  \n",
    "  - \"AFRICAH\" → \"Africa\"  \n",
    "  - \"AMERICAH\" → \"America\"  \n",
    "  - \"ANTARTICA\" → \"Antarctica\"  \n",
    "- If the region is not recognized (e.g., \"Mars\"), keep it as-is.  \n",
    "- Return **the entire corrected query** and nothing else—no explanations, no comments.  \n",
    "\n",
    "### **Examples:**  \n",
    "**Input:** List all operators in IROPE.  \n",
    "**Output:** List all operators in Europe.  \n",
    "\n",
    "**Input:** How many customers are from ASIAH?  \n",
    "**Output:** How many customers are from Asia?  \n",
    "\n",
    "**Input:** Show operators in Mars.  \n",
    "**Output:** Show operators in Mars.  \n",
    "\n",
    "### **Your Turn:**  \n",
    "**Input:** {question}  \n",
    "**Output:**  \n",
    "\"\"\"\n",
    "\n",
    "spell_check_prompt = ChatPromptTemplate.from_template(spell_check_template)\n",
    "\n",
    "spell_check_prompt = ChatPromptTemplate.from_template(spell_check_template)"
   ]
  },
  {
   "cell_type": "code",
   "execution_count": 19,
   "metadata": {},
   "outputs": [],
   "source": [
    "sql_template = \"\"\"You are an expert in generating SQL queries. Below is the schema of a MySQL database. Read the schema carefully, paying attention to table names, column names, and case sensitivity.\n",
    "\n",
    "Your task is to generate a syntactically correct SQL query that answers the user's question based on the given schema. **Only provide the SQL query and nothing else**—no explanations, no comments.\n",
    "\n",
    "### **Schema:**  \n",
    "{schema}\n",
    "\n",
    "### **Instructions:**  \n",
    "- Use **only** the provided tables and columns in the schema.  \n",
    "- Be **mindful of case sensitivity** for table and column names.  \n",
    "- If the user doesn't specify a limit, do **not** fetch excessive records.  \n",
    "- Do **not** generate queries for non-existent tables or columns.  \n",
    "- The region/country in the question has already been spell-checked. Use it as-is.  \n",
    "\n",
    "### **Examples:**  \n",
    "**Question:** How many albums are in the database?  \n",
    "**SQL Query:** SELECT COUNT(*) FROM album;\n",
    "\n",
    "**Question:** How many customers are from Brazil?  \n",
    "**SQL Query:** SELECT COUNT(*) FROM customer WHERE country = 'Brazil';\n",
    "\n",
    "**Question:** List all operators in Europe.  \n",
    "**SQL Query:** SELECT Operator FROM operator_list WHERE Region = 'Europe';\n",
    "\n",
    "### **Your Turn:**  \n",
    "**Question:** {question}  \n",
    "**SQL Query:**  \n",
    "\"\"\"\n",
    "\n",
    "sql_prompt = ChatPromptTemplate.from_template(sql_template)"
   ]
  },
  {
   "cell_type": "code",
   "execution_count": 39,
   "metadata": {
    "vscode": {
     "languageId": "shellscript"
    }
   },
   "outputs": [],
   "source": [
    "# from langchain_core.prompts import ChatPromptTemplate\n",
    "# template = \"\"\"You are an expert in generating SQL queries. Below is the schema of a MySQL database. Read the schema carefully, paying attention to table names, column names, and case sensitivity.\n",
    "\n",
    "# Your task is to generate a syntactically correct SQL query that answers the user's question based on the given schema. **Only provide the SQL query and nothing else**—no explanations, no comments.\n",
    "\n",
    "# ### **Schema:**  \n",
    "# {schema}\n",
    "\n",
    "# ### **Instructions:**  \n",
    "# - Use **only** the provided tables and columns in the schema.  \n",
    "# - Be **mindful of case sensitivity** for table and column names.  \n",
    "# - If the user doesn't specify a limit, do **not** fetch excessive records.  \n",
    "# - Do **not** generate queries for non-existent tables or columns.  \n",
    "# - **Perform spelling checks** on user-provided terms (e.g., correct \"IROPE\" to \"Europe\") before generating the SQL query.  \n",
    "#   - Common spelling mistakes and their corrections:  \n",
    "#     - \"IROPE\" → \"Europe\"  \n",
    "#     - \"ASIAH\" → \"Asia\"  \n",
    "#     - \"OCEANEA\" → \"Oceania\"  \n",
    "#     - \"AFRICAH\" → \"Africa\"  \n",
    "#     - \"AMERICAH\" → \"America\"  \n",
    "#     - \"ANTARTICA\" → \"Antarctica\"  \n",
    "#   - If the region is misspelled, correct it and use the corrected value in the query.  \n",
    "#   - If the region is not recognized (e.g., \"Mars\"), return an empty result.  \n",
    "\n",
    "# ### **Examples:**  \n",
    "# **Question:** How many albums are in the database?  \n",
    "# **SQL Query:** SELECT COUNT(*) FROM album;\n",
    "\n",
    "# **Question:** How many customers are from Brazil?  \n",
    "# **SQL Query:** SELECT COUNT(*) FROM customer WHERE country = 'Brazil';\n",
    "\n",
    "# **Question:** List all operators in IROPE.  \n",
    "# **SQL Query:** SELECT Operator FROM operator_list WHERE Region = 'Europe';\n",
    "\n",
    "# **Question:** List all operators in ASIAH.  \n",
    "# **SQL Query:** SELECT Operator FROM operator_list WHERE Region = 'Asia';\n",
    "\n",
    "# **Question:** List all operators in OCEANEA.  \n",
    "# **SQL Query:** SELECT Operator FROM operator_list WHERE Region = 'Oceania';\n",
    "\n",
    "# ### **Your Turn:**  \n",
    "# **Question:** {question}  \n",
    "# **SQL Query:**  \n",
    "# \"\"\"\n",
    "# # template = \"\"\"You are an expert in generating SQL queries. Below is the schema of a MySQL database. Read the schema carefully, paying attention to table names, column names, and case sensitivity.\n",
    "\n",
    "# # Your task is to generate a syntactically correct SQL query that answers the user's question based on the given schema. **Only provide the SQL query and nothing else**—no explanations, no comments.\n",
    "\n",
    "# # ### **Schema:**  \n",
    "# # {schema}\n",
    "\n",
    "# # ### **Instructions:**  \n",
    "# # - Use **only** the provided tables and columns in the schema.  \n",
    "# # - Be **mindful of case sensitivity** for table and column names.  \n",
    "# # - If the user doesn't specify a limit, do **not** fetch excessive records.  \n",
    "# # - Do **not** generate queries for non-existent tables or columns.  \n",
    "# # - **Perform spelling checks** on user-provided terms (e.g., correct \"IROPE\" to \"Europe\") before generating the SQL query.  \n",
    "\n",
    "# # ### **Examples:**  \n",
    "# # **Question:** How many albums are in the database?  \n",
    "# # **SQL Query:** SELECT COUNT(*) FROM album;\n",
    "\n",
    "# # **Question:** How many customers are from Brazil?  \n",
    "# # **SQL Query:** SELECT COUNT(*) FROM customer WHERE country = 'Brazil';\n",
    "\n",
    "# # ### **Your Turn:**  \n",
    "# # **Question:** {question}  \n",
    "# # **SQL Query:**  \n",
    "# # \"\"\""
   ]
  },
  {
   "cell_type": "code",
   "execution_count": 20,
   "metadata": {},
   "outputs": [],
   "source": [
    "response_template = \"\"\"You are an AI assistant skilled in SQL and natural language processing. Your task is to generate **a user-friendly response** based on a SQL query result.\n",
    "\n",
    "Below is the schema of a MySQL database. Read the schema carefully to understand the structure, including table and column names.\n",
    "\n",
    "### **Schema:**  \n",
    "{schema}\n",
    "\n",
    "### **Instructions:**  \n",
    "- Respond in **natural, conversational language** while keeping the response **concise and informative**.  \n",
    "- Do **not** include the SQL query or any technical details in the response.  \n",
    "- If the result is empty (`[]` or `None`), respond accordingly (e.g., \"There are no operators in Europe in the database.\").  \n",
    "- Start the response with a brief sentence that dynamically adapts to the question (e.g., \"The operators in Europe are:\" or \"The total number of customers in Brazil is:\").  \n",
    "- Format the response in a clean, structured way:  \n",
    "  - For lists, use bullet points (`-`) or numbered lists.  \n",
    "  - For counts or single values, provide a concise sentence.  \n",
    "- If the question implies ordering (e.g., \"list all operators in alphabetical order\"), ensure the response reflects the ordered results.  \n",
    "\n",
    "### **Examples:**  \n",
    "\n",
    "**Question:** How many albums are in the database?  \n",
    "**SQL Query:** SELECT COUNT(*) FROM album;\n",
    "**Result:** `[(34,)]`  \n",
    "**Response:** There are 34 albums in the database.  \n",
    "\n",
    "**Question:** How many customers are from India?  \n",
    "**SQL Query:** `ELECT COUNT(*) FROM customer WHERE country = 'India';\n",
    "**Result:** `[(4,)]`  \n",
    "**Response:** There are 4 customers from India in the database.  \n",
    "\n",
    "**Question:** List all operators in Europe in alphabetical order.  \n",
    "**SQL Query:** SELECT Operator FROM operator_list WHERE Region = 'EUROPE' ORDER BY Operator ASC;\n",
    "**Result:** `[(\"Operator A\",), (\"Operator B\",), ...]`  \n",
    "**Response:** The operators in Europe are:  \n",
    "- Operator A  \n",
    "- Operator B  \n",
    "- ...  \n",
    "\n",
    "### **Your Turn:**  \n",
    "**Question:** {question}  \n",
    "**SQL Query:** {query}  \n",
    "**Result:** {result}  \n",
    "**Response:**  \n",
    "\"\"\"\n",
    "\n",
    "response_prompt = ChatPromptTemplate.from_template(response_template)"
   ]
  },
  {
   "cell_type": "code",
   "execution_count": 21,
   "metadata": {},
   "outputs": [],
   "source": [
    "from langchain_core.runnables import RunnablePassthrough\n",
    "\n",
    "def runChain(question):\n",
    "    # Step 1: Spell check\n",
    "    spell_check_chain = spell_check_prompt | llm\n",
    "    corrected_region = spell_check_chain.invoke({\"region\": question}).content\n",
    "    \n",
    "    # Step 2: Generate SQL query\n",
    "    sql_chain = sql_prompt | llm\n",
    "    query = sql_chain.invoke({\"question\": question, \"schema\": schema}).content\n",
    "    \n",
    "    # Step 3: Execute SQL query\n",
    "    result = db.run(query)\n",
    "    \n",
    "    # Step 4: Generate user-friendly response\n",
    "    response_chain = response_prompt | llm\n",
    "    response = response_chain.invoke({\n",
    "        \"question\": question,\n",
    "        \"schema\": schema,\n",
    "        \"query\": query,\n",
    "        \"result\": result\n",
    "    }).content\n",
    "    \n",
    "    return response"
   ]
  },
  {
   "cell_type": "code",
   "execution_count": 22,
   "metadata": {},
   "outputs": [
    {
     "ename": "KeyError",
     "evalue": "\"Input to ChatPromptTemplate is missing variables {'query'}.  Expected: ['query'] Received: ['region']\\nNote: if you intended {query} to be part of the string and not a variable, please escape it with double curly braces like: '{{query}}'.\\nFor troubleshooting, visit: https://python.langchain.com/docs/troubleshooting/errors/INVALID_PROMPT_INPUT \"",
     "output_type": "error",
     "traceback": [
      "\u001b[31m---------------------------------------------------------------------------\u001b[39m",
      "\u001b[31mKeyError\u001b[39m                                  Traceback (most recent call last)",
      "\u001b[36mCell\u001b[39m\u001b[36m \u001b[39m\u001b[32mIn[22]\u001b[39m\u001b[32m, line 3\u001b[39m\n\u001b[32m      1\u001b[39m question = \u001b[33m\"\u001b[39m\u001b[33mName all the operators in Irope\u001b[39m\u001b[33m\"\u001b[39m\n\u001b[32m      2\u001b[39m spell_check_chain = spell_check_prompt | llm\n\u001b[32m----> \u001b[39m\u001b[32m3\u001b[39m corrected_region = \u001b[43mspell_check_chain\u001b[49m\u001b[43m.\u001b[49m\u001b[43minvoke\u001b[49m\u001b[43m(\u001b[49m\u001b[43m{\u001b[49m\u001b[33;43m\"\u001b[39;49m\u001b[33;43mregion\u001b[39;49m\u001b[33;43m\"\u001b[39;49m\u001b[43m:\u001b[49m\u001b[43m \u001b[49m\u001b[43mquestion\u001b[49m\u001b[43m}\u001b[49m\u001b[43m)\u001b[49m.content\n\u001b[32m      4\u001b[39m \u001b[38;5;28mprint\u001b[39m(corrected_region)\n",
      "\u001b[36mFile \u001b[39m\u001b[32m~\\Desktop\\Chat With Excel\\excel-rag\\Lib\\site-packages\\langchain_core\\runnables\\base.py:3027\u001b[39m, in \u001b[36mRunnableSequence.invoke\u001b[39m\u001b[34m(self, input, config, **kwargs)\u001b[39m\n\u001b[32m   3025\u001b[39m context.run(_set_config_context, config)\n\u001b[32m   3026\u001b[39m \u001b[38;5;28;01mif\u001b[39;00m i == \u001b[32m0\u001b[39m:\n\u001b[32m-> \u001b[39m\u001b[32m3027\u001b[39m     \u001b[38;5;28minput\u001b[39m = \u001b[43mcontext\u001b[49m\u001b[43m.\u001b[49m\u001b[43mrun\u001b[49m\u001b[43m(\u001b[49m\u001b[43mstep\u001b[49m\u001b[43m.\u001b[49m\u001b[43minvoke\u001b[49m\u001b[43m,\u001b[49m\u001b[43m \u001b[49m\u001b[38;5;28;43minput\u001b[39;49m\u001b[43m,\u001b[49m\u001b[43m \u001b[49m\u001b[43mconfig\u001b[49m\u001b[43m,\u001b[49m\u001b[43m \u001b[49m\u001b[43m*\u001b[49m\u001b[43m*\u001b[49m\u001b[43mkwargs\u001b[49m\u001b[43m)\u001b[49m\n\u001b[32m   3028\u001b[39m \u001b[38;5;28;01melse\u001b[39;00m:\n\u001b[32m   3029\u001b[39m     \u001b[38;5;28minput\u001b[39m = context.run(step.invoke, \u001b[38;5;28minput\u001b[39m, config)\n",
      "\u001b[36mFile \u001b[39m\u001b[32m~\\Desktop\\Chat With Excel\\excel-rag\\Lib\\site-packages\\langchain_core\\prompts\\base.py:210\u001b[39m, in \u001b[36mBasePromptTemplate.invoke\u001b[39m\u001b[34m(self, input, config, **kwargs)\u001b[39m\n\u001b[32m    208\u001b[39m \u001b[38;5;28;01mif\u001b[39;00m \u001b[38;5;28mself\u001b[39m.tags:\n\u001b[32m    209\u001b[39m     config[\u001b[33m\"\u001b[39m\u001b[33mtags\u001b[39m\u001b[33m\"\u001b[39m] = config[\u001b[33m\"\u001b[39m\u001b[33mtags\u001b[39m\u001b[33m\"\u001b[39m] + \u001b[38;5;28mself\u001b[39m.tags\n\u001b[32m--> \u001b[39m\u001b[32m210\u001b[39m \u001b[38;5;28;01mreturn\u001b[39;00m \u001b[38;5;28;43mself\u001b[39;49m\u001b[43m.\u001b[49m\u001b[43m_call_with_config\u001b[49m\u001b[43m(\u001b[49m\n\u001b[32m    211\u001b[39m \u001b[43m    \u001b[49m\u001b[38;5;28;43mself\u001b[39;49m\u001b[43m.\u001b[49m\u001b[43m_format_prompt_with_error_handling\u001b[49m\u001b[43m,\u001b[49m\n\u001b[32m    212\u001b[39m \u001b[43m    \u001b[49m\u001b[38;5;28;43minput\u001b[39;49m\u001b[43m,\u001b[49m\n\u001b[32m    213\u001b[39m \u001b[43m    \u001b[49m\u001b[43mconfig\u001b[49m\u001b[43m,\u001b[49m\n\u001b[32m    214\u001b[39m \u001b[43m    \u001b[49m\u001b[43mrun_type\u001b[49m\u001b[43m=\u001b[49m\u001b[33;43m\"\u001b[39;49m\u001b[33;43mprompt\u001b[39;49m\u001b[33;43m\"\u001b[39;49m\u001b[43m,\u001b[49m\n\u001b[32m    215\u001b[39m \u001b[43m    \u001b[49m\u001b[43mserialized\u001b[49m\u001b[43m=\u001b[49m\u001b[38;5;28;43mself\u001b[39;49m\u001b[43m.\u001b[49m\u001b[43m_serialized\u001b[49m\u001b[43m,\u001b[49m\n\u001b[32m    216\u001b[39m \u001b[43m\u001b[49m\u001b[43m)\u001b[49m\n",
      "\u001b[36mFile \u001b[39m\u001b[32m~\\Desktop\\Chat With Excel\\excel-rag\\Lib\\site-packages\\langchain_core\\runnables\\base.py:1927\u001b[39m, in \u001b[36mRunnable._call_with_config\u001b[39m\u001b[34m(self, func, input, config, run_type, serialized, **kwargs)\u001b[39m\n\u001b[32m   1923\u001b[39m     context = copy_context()\n\u001b[32m   1924\u001b[39m     context.run(_set_config_context, child_config)\n\u001b[32m   1925\u001b[39m     output = cast(\n\u001b[32m   1926\u001b[39m         Output,\n\u001b[32m-> \u001b[39m\u001b[32m1927\u001b[39m         \u001b[43mcontext\u001b[49m\u001b[43m.\u001b[49m\u001b[43mrun\u001b[49m\u001b[43m(\u001b[49m\n\u001b[32m   1928\u001b[39m \u001b[43m            \u001b[49m\u001b[43mcall_func_with_variable_args\u001b[49m\u001b[43m,\u001b[49m\u001b[43m  \u001b[49m\u001b[38;5;66;43;03m# type: ignore[arg-type]\u001b[39;49;00m\n\u001b[32m   1929\u001b[39m \u001b[43m            \u001b[49m\u001b[43mfunc\u001b[49m\u001b[43m,\u001b[49m\u001b[43m  \u001b[49m\u001b[38;5;66;43;03m# type: ignore[arg-type]\u001b[39;49;00m\n\u001b[32m   1930\u001b[39m \u001b[43m            \u001b[49m\u001b[38;5;28;43minput\u001b[39;49m\u001b[43m,\u001b[49m\u001b[43m  \u001b[49m\u001b[38;5;66;43;03m# type: ignore[arg-type]\u001b[39;49;00m\n\u001b[32m   1931\u001b[39m \u001b[43m            \u001b[49m\u001b[43mconfig\u001b[49m\u001b[43m,\u001b[49m\n\u001b[32m   1932\u001b[39m \u001b[43m            \u001b[49m\u001b[43mrun_manager\u001b[49m\u001b[43m,\u001b[49m\n\u001b[32m   1933\u001b[39m \u001b[43m            \u001b[49m\u001b[43m*\u001b[49m\u001b[43m*\u001b[49m\u001b[43mkwargs\u001b[49m\u001b[43m,\u001b[49m\n\u001b[32m   1934\u001b[39m \u001b[43m        \u001b[49m\u001b[43m)\u001b[49m,\n\u001b[32m   1935\u001b[39m     )\n\u001b[32m   1936\u001b[39m \u001b[38;5;28;01mexcept\u001b[39;00m \u001b[38;5;167;01mBaseException\u001b[39;00m \u001b[38;5;28;01mas\u001b[39;00m e:\n\u001b[32m   1937\u001b[39m     run_manager.on_chain_error(e)\n",
      "\u001b[36mFile \u001b[39m\u001b[32m~\\Desktop\\Chat With Excel\\excel-rag\\Lib\\site-packages\\langchain_core\\runnables\\config.py:396\u001b[39m, in \u001b[36mcall_func_with_variable_args\u001b[39m\u001b[34m(func, input, config, run_manager, **kwargs)\u001b[39m\n\u001b[32m    394\u001b[39m \u001b[38;5;28;01mif\u001b[39;00m run_manager \u001b[38;5;129;01mis\u001b[39;00m \u001b[38;5;129;01mnot\u001b[39;00m \u001b[38;5;28;01mNone\u001b[39;00m \u001b[38;5;129;01mand\u001b[39;00m accepts_run_manager(func):\n\u001b[32m    395\u001b[39m     kwargs[\u001b[33m\"\u001b[39m\u001b[33mrun_manager\u001b[39m\u001b[33m\"\u001b[39m] = run_manager\n\u001b[32m--> \u001b[39m\u001b[32m396\u001b[39m \u001b[38;5;28;01mreturn\u001b[39;00m \u001b[43mfunc\u001b[49m\u001b[43m(\u001b[49m\u001b[38;5;28;43minput\u001b[39;49m\u001b[43m,\u001b[49m\u001b[43m \u001b[49m\u001b[43m*\u001b[49m\u001b[43m*\u001b[49m\u001b[43mkwargs\u001b[49m\u001b[43m)\u001b[49m\n",
      "\u001b[36mFile \u001b[39m\u001b[32m~\\Desktop\\Chat With Excel\\excel-rag\\Lib\\site-packages\\langchain_core\\prompts\\base.py:184\u001b[39m, in \u001b[36mBasePromptTemplate._format_prompt_with_error_handling\u001b[39m\u001b[34m(self, inner_input)\u001b[39m\n\u001b[32m    183\u001b[39m \u001b[38;5;28;01mdef\u001b[39;00m\u001b[38;5;250m \u001b[39m\u001b[34m_format_prompt_with_error_handling\u001b[39m(\u001b[38;5;28mself\u001b[39m, inner_input: \u001b[38;5;28mdict\u001b[39m) -> PromptValue:\n\u001b[32m--> \u001b[39m\u001b[32m184\u001b[39m     _inner_input = \u001b[38;5;28;43mself\u001b[39;49m\u001b[43m.\u001b[49m\u001b[43m_validate_input\u001b[49m\u001b[43m(\u001b[49m\u001b[43minner_input\u001b[49m\u001b[43m)\u001b[49m\n\u001b[32m    185\u001b[39m     \u001b[38;5;28;01mreturn\u001b[39;00m \u001b[38;5;28mself\u001b[39m.format_prompt(**_inner_input)\n",
      "\u001b[36mFile \u001b[39m\u001b[32m~\\Desktop\\Chat With Excel\\excel-rag\\Lib\\site-packages\\langchain_core\\prompts\\base.py:178\u001b[39m, in \u001b[36mBasePromptTemplate._validate_input\u001b[39m\u001b[34m(self, inner_input)\u001b[39m\n\u001b[32m    172\u001b[39m     example_key = missing.pop()\n\u001b[32m    173\u001b[39m     msg += (\n\u001b[32m    174\u001b[39m         \u001b[33mf\u001b[39m\u001b[33m\"\u001b[39m\u001b[38;5;130;01m\\n\u001b[39;00m\u001b[33mNote: if you intended \u001b[39m\u001b[38;5;130;01m{{\u001b[39;00m\u001b[38;5;132;01m{\u001b[39;00mexample_key\u001b[38;5;132;01m}\u001b[39;00m\u001b[38;5;130;01m}}\u001b[39;00m\u001b[33m to be part of the string\u001b[39m\u001b[33m\"\u001b[39m\n\u001b[32m    175\u001b[39m         \u001b[33m\"\u001b[39m\u001b[33m and not a variable, please escape it with double curly braces like: \u001b[39m\u001b[33m\"\u001b[39m\n\u001b[32m    176\u001b[39m         \u001b[33mf\u001b[39m\u001b[33m\"\u001b[39m\u001b[33m'\u001b[39m\u001b[38;5;130;01m{{\u001b[39;00m\u001b[38;5;130;01m{{\u001b[39;00m\u001b[38;5;132;01m{\u001b[39;00mexample_key\u001b[38;5;132;01m}\u001b[39;00m\u001b[38;5;130;01m}}\u001b[39;00m\u001b[38;5;130;01m}}\u001b[39;00m\u001b[33m'\u001b[39m\u001b[33m.\u001b[39m\u001b[33m\"\u001b[39m\n\u001b[32m    177\u001b[39m     )\n\u001b[32m--> \u001b[39m\u001b[32m178\u001b[39m     \u001b[38;5;28;01mraise\u001b[39;00m \u001b[38;5;167;01mKeyError\u001b[39;00m(\n\u001b[32m    179\u001b[39m         create_message(message=msg, error_code=ErrorCode.INVALID_PROMPT_INPUT)\n\u001b[32m    180\u001b[39m     )\n\u001b[32m    181\u001b[39m \u001b[38;5;28;01mreturn\u001b[39;00m inner_input\n",
      "\u001b[31mKeyError\u001b[39m: \"Input to ChatPromptTemplate is missing variables {'query'}.  Expected: ['query'] Received: ['region']\\nNote: if you intended {query} to be part of the string and not a variable, please escape it with double curly braces like: '{{query}}'.\\nFor troubleshooting, visit: https://python.langchain.com/docs/troubleshooting/errors/INVALID_PROMPT_INPUT \""
     ]
    }
   ],
   "source": [
    "question = \"Name all the operators in Irope\"\n",
    "spell_check_chain = spell_check_prompt | llm\n",
    "corrected_region = spell_check_chain.invoke({\"region\": question}).content\n",
    "print(corrected_region)"
   ]
  },
  {
   "cell_type": "code",
   "execution_count": 40,
   "metadata": {},
   "outputs": [],
   "source": [
    "# from langchain_core.prompts import ChatPromptTemplate\n",
    "# from langchain_core.runnables import RunnablePassthrough\n",
    "\n",
    "# template2=\"\"\"You are an AI assistant skilled in SQL and natural language processing. Your task is to generate **a user-friendly response** based on a SQL query result.\n",
    "\n",
    "# Below is the schema of a MySQL database. Read the schema carefully to understand the structure, including table and column names.\n",
    "\n",
    "# ### **Schema:**  \n",
    "# {schema}\n",
    "\n",
    "# ### **Instructions:**  \n",
    "# - Respond in **natural, conversational language** while keeping the response **concise and informative**.  \n",
    "# - Do **not** include the SQL query or any technical details in the response.  \n",
    "# - If the result is empty (`[]` or `None`), respond accordingly (e.g., \"There are no operators in Europe in the database.\").  \n",
    "# - Start the response with a brief sentence that dynamically adapts to the question (e.g., \"The operators in Europe are:\" or \"The total number of customers in Brazil is:\").  \n",
    "# - Format the response in a clean, structured way:  \n",
    "#   - For lists, use bullet points (`-`) or numbered lists.  \n",
    "#   - For counts or single values, provide a concise sentence.  \n",
    "# - If the question implies ordering (e.g., \"list all operators in alphabetical order\"), ensure the response reflects the ordered results.  \n",
    "\n",
    "# ### **Examples:**  \n",
    "\n",
    "# **Question:** How many albums are in the database?  \n",
    "# **SQL Query:** SELECT COUNT(*) FROM album;\n",
    "# **Result:** `[(34,)]`  \n",
    "# **Response:** There are 34 albums in the database.  \n",
    "\n",
    "# **Question:** How many customers are from India?  \n",
    "# **SQL Query:** `ELECT COUNT(*) FROM customer WHERE country = 'India';\n",
    "# **Result:** `[(4,)]`  \n",
    "# **Response:** There are 4 customers from India in the database.  \n",
    "\n",
    "# **Question:** List all operators in Europe in alphabetical order.  \n",
    "# **SQL Query:** SELECT Operator FROM operator_list WHERE Region = 'EUROPE' ORDER BY Operator ASC;\n",
    "# **Result:** `[(\"Operator A\",), (\"Operator B\",), ...]`  \n",
    "# **Response:** The operators in Europe are:  \n",
    "# - Operator A  \n",
    "# - Operator B  \n",
    "# - ...  \n",
    "\n",
    "# ### **Your Turn:**  \n",
    "# **Question:** {question}  \n",
    "# **SQL Query:** {query}  \n",
    "# **Result:** {result}  \n",
    "# **Response:**  \n",
    "# \"\"\"\n",
    "# # Create prompts\n",
    "# prompt = ChatPromptTemplate.from_template(template)\n",
    "# prompt2 = ChatPromptTemplate.from_template(template2)"
   ]
  },
  {
   "cell_type": "code",
   "execution_count": 51,
   "metadata": {},
   "outputs": [],
   "source": [
    "# # Define the chain - Batch Processing Approach\n",
    "# def runChain(question):\n",
    "#     # Step 1: Generate SQL query\n",
    "#     query = (prompt | llm).invoke({\"question\": question, \"schema\": schema}).content\n",
    "    \n",
    "#     # Step 2: Execute SQL query\n",
    "#     result = db.run(query)\n",
    "    \n",
    "#     # Step 3: Generate user-friendly response\n",
    "#     response = (prompt2 | llm).invoke({\n",
    "#         \"question\": question,\n",
    "#         \"schema\": schema,\n",
    "#         \"query\": query,\n",
    "#         \"result\": result\n",
    "#     }).content\n",
    "    \n",
    "#     return response"
   ]
  },
  {
   "cell_type": "code",
   "execution_count": 16,
   "metadata": {},
   "outputs": [
    {
     "name": "stdout",
     "output_type": "stream",
     "text": [
      "The operators in Irope are:\n",
      "\n",
      "- None of the records found for Irope.\n"
     ]
    }
   ],
   "source": [
    "# Example usage\n",
    "question = \"Name all the operators in Irope\"\n",
    "response = runChain(question)\n",
    "print(response)"
   ]
  }
 ],
 "metadata": {
  "kernelspec": {
   "display_name": "excel-rag",
   "language": "python",
   "name": "myenv"
  },
  "language_info": {
   "codemirror_mode": {
    "name": "ipython",
    "version": 3
   },
   "file_extension": ".py",
   "mimetype": "text/x-python",
   "name": "python",
   "nbconvert_exporter": "python",
   "pygments_lexer": "ipython3",
   "version": "3.11.0"
  }
 },
 "nbformat": 4,
 "nbformat_minor": 4
}
